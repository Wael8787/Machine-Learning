{
  "nbformat": 4,
  "nbformat_minor": 0,
  "metadata": {
    "colab": {
      "name": "13_Eclat.ipynb",
      "provenance": [],
      "authorship_tag": "ABX9TyP0aPXrf4MVnoM31MGL38Ik",
      "include_colab_link": true
    },
    "kernelspec": {
      "name": "python3",
      "display_name": "Python 3"
    }
  },
  "cells": [
    {
      "cell_type": "markdown",
      "metadata": {
        "id": "view-in-github",
        "colab_type": "text"
      },
      "source": [
        "<a href=\"https://colab.research.google.com/github/Wael8787/Machine-Learning/blob/main/13_Eclat.ipynb\" target=\"_parent\"><img src=\"https://colab.research.google.com/assets/colab-badge.svg\" alt=\"Open In Colab\"/></a>"
      ]
    },
    {
      "cell_type": "code",
      "metadata": {
        "colab": {
          "base_uri": "https://localhost:8080/"
        },
        "id": "NJ46KMSQurlZ",
        "outputId": "91929be3-b272-4a6c-df26-2b46e104e25e"
      },
      "source": [
        "!pip install pyECLAT"
      ],
      "execution_count": 1,
      "outputs": [
        {
          "output_type": "stream",
          "text": [
            "Collecting pyECLAT\n",
            "  Downloading https://files.pythonhosted.org/packages/2e/b7/3b5b1fc70e917d2e2b7182dfc0f5b26a573621ee2c64538a7d72bf3f1f15/pyECLAT-1.0.2-py3-none-any.whl\n",
            "Requirement already satisfied: pandas>=0.25.3 in /usr/local/lib/python3.6/dist-packages (from pyECLAT) (1.1.5)\n",
            "Requirement already satisfied: numpy>=1.17.4 in /usr/local/lib/python3.6/dist-packages (from pyECLAT) (1.18.5)\n",
            "Requirement already satisfied: tqdm>=4.41.1 in /usr/local/lib/python3.6/dist-packages (from pyECLAT) (4.41.1)\n",
            "Requirement already satisfied: python-dateutil>=2.7.3 in /usr/local/lib/python3.6/dist-packages (from pandas>=0.25.3->pyECLAT) (2.8.1)\n",
            "Requirement already satisfied: pytz>=2017.2 in /usr/local/lib/python3.6/dist-packages (from pandas>=0.25.3->pyECLAT) (2018.9)\n",
            "Requirement already satisfied: six>=1.5 in /usr/local/lib/python3.6/dist-packages (from python-dateutil>=2.7.3->pandas>=0.25.3->pyECLAT) (1.15.0)\n",
            "Installing collected packages: pyECLAT\n",
            "Successfully installed pyECLAT-1.0.2\n"
          ],
          "name": "stdout"
        }
      ]
    },
    {
      "cell_type": "code",
      "metadata": {
        "id": "9Q32p6jkvJ2e"
      },
      "source": [
        "from pyECLAT import Example1\r\n",
        "ex1 = Example1().get()"
      ],
      "execution_count": 8,
      "outputs": []
    },
    {
      "cell_type": "code",
      "metadata": {
        "colab": {
          "base_uri": "https://localhost:8080/",
          "height": 359
        },
        "id": "MISlfRfqvvKS",
        "outputId": "c939e6f8-5ddc-4873-c035-9388a40eec1a"
      },
      "source": [
        "ex1"
      ],
      "execution_count": 9,
      "outputs": [
        {
          "output_type": "execute_result",
          "data": {
            "text/html": [
              "<div>\n",
              "<style scoped>\n",
              "    .dataframe tbody tr th:only-of-type {\n",
              "        vertical-align: middle;\n",
              "    }\n",
              "\n",
              "    .dataframe tbody tr th {\n",
              "        vertical-align: top;\n",
              "    }\n",
              "\n",
              "    .dataframe thead th {\n",
              "        text-align: right;\n",
              "    }\n",
              "</style>\n",
              "<table border=\"1\" class=\"dataframe\">\n",
              "  <thead>\n",
              "    <tr style=\"text-align: right;\">\n",
              "      <th></th>\n",
              "      <th>0</th>\n",
              "      <th>1</th>\n",
              "      <th>2</th>\n",
              "      <th>3</th>\n",
              "    </tr>\n",
              "  </thead>\n",
              "  <tbody>\n",
              "    <tr>\n",
              "      <th>0</th>\n",
              "      <td>milk</td>\n",
              "      <td>beer</td>\n",
              "      <td>bread</td>\n",
              "      <td>butter</td>\n",
              "    </tr>\n",
              "    <tr>\n",
              "      <th>1</th>\n",
              "      <td>coffe</td>\n",
              "      <td>bread</td>\n",
              "      <td>butter</td>\n",
              "      <td>NaN</td>\n",
              "    </tr>\n",
              "    <tr>\n",
              "      <th>2</th>\n",
              "      <td>coffe</td>\n",
              "      <td>bread</td>\n",
              "      <td>butter</td>\n",
              "      <td>NaN</td>\n",
              "    </tr>\n",
              "    <tr>\n",
              "      <th>3</th>\n",
              "      <td>milk</td>\n",
              "      <td>coffe</td>\n",
              "      <td>bread</td>\n",
              "      <td>butter</td>\n",
              "    </tr>\n",
              "    <tr>\n",
              "      <th>4</th>\n",
              "      <td>beer</td>\n",
              "      <td>NaN</td>\n",
              "      <td>NaN</td>\n",
              "      <td>NaN</td>\n",
              "    </tr>\n",
              "    <tr>\n",
              "      <th>5</th>\n",
              "      <td>butter</td>\n",
              "      <td>NaN</td>\n",
              "      <td>NaN</td>\n",
              "      <td>NaN</td>\n",
              "    </tr>\n",
              "    <tr>\n",
              "      <th>6</th>\n",
              "      <td>bread</td>\n",
              "      <td>NaN</td>\n",
              "      <td>NaN</td>\n",
              "      <td>NaN</td>\n",
              "    </tr>\n",
              "    <tr>\n",
              "      <th>7</th>\n",
              "      <td>bean</td>\n",
              "      <td>NaN</td>\n",
              "      <td>NaN</td>\n",
              "      <td>NaN</td>\n",
              "    </tr>\n",
              "    <tr>\n",
              "      <th>8</th>\n",
              "      <td>rice</td>\n",
              "      <td>bean</td>\n",
              "      <td>NaN</td>\n",
              "      <td>NaN</td>\n",
              "    </tr>\n",
              "    <tr>\n",
              "      <th>9</th>\n",
              "      <td>rice</td>\n",
              "      <td>NaN</td>\n",
              "      <td>NaN</td>\n",
              "      <td>NaN</td>\n",
              "    </tr>\n",
              "  </tbody>\n",
              "</table>\n",
              "</div>"
            ],
            "text/plain": [
              "        0      1       2       3\n",
              "0    milk   beer   bread  butter\n",
              "1   coffe  bread  butter     NaN\n",
              "2   coffe  bread  butter     NaN\n",
              "3    milk  coffe   bread  butter\n",
              "4    beer    NaN     NaN     NaN\n",
              "5  butter    NaN     NaN     NaN\n",
              "6   bread    NaN     NaN     NaN\n",
              "7    bean    NaN     NaN     NaN\n",
              "8    rice   bean     NaN     NaN\n",
              "9    rice    NaN     NaN     NaN"
            ]
          },
          "metadata": {
            "tags": []
          },
          "execution_count": 9
        }
      ]
    },
    {
      "cell_type": "code",
      "metadata": {
        "colab": {
          "base_uri": "https://localhost:8080/"
        },
        "id": "cWVuFW58vwfz",
        "outputId": "9958df44-6896-4f13-a3da-688fe52c0fb8"
      },
      "source": [
        "from pyECLAT import ECLAT\r\n",
        "eclat_instance = ECLAT(data=ex1, verbose=True)"
      ],
      "execution_count": 11,
      "outputs": [
        {
          "output_type": "stream",
          "text": [
            "100%|██████████| 7/7 [00:00<00:00, 454.20it/s]\n",
            "100%|██████████| 7/7 [00:00<00:00, 1839.03it/s]\n",
            "100%|██████████| 7/7 [00:00<00:00, 1223.70it/s]\n"
          ],
          "name": "stderr"
        }
      ]
    },
    {
      "cell_type": "code",
      "metadata": {
        "colab": {
          "base_uri": "https://localhost:8080/"
        },
        "id": "9O6bLkfRwXs8",
        "outputId": "5a4914cf-8c8e-42d8-d675-b2a3c4386869"
      },
      "source": [
        "eclat_instance.uniq_"
      ],
      "execution_count": 12,
      "outputs": [
        {
          "output_type": "execute_result",
          "data": {
            "text/plain": [
              "[nan, 'beer', 'bread', 'butter', 'coffe', 'milk', 'rice', 'bean']"
            ]
          },
          "metadata": {
            "tags": []
          },
          "execution_count": 12
        }
      ]
    },
    {
      "cell_type": "code",
      "metadata": {
        "colab": {
          "base_uri": "https://localhost:8080/"
        },
        "id": "MxlSDBU3w9NH",
        "outputId": "2f16466c-ad1c-458b-e629-fc2cf421c39f"
      },
      "source": [
        "get_ECLAT_indexes, get_ECLAT_supports = eclat_instance.fit(min_support=0.3,\r\n",
        "                                                           min_combination=1,\r\n",
        "                                                           max_combination=3,\r\n",
        "                                                           separator=' & ',\r\n",
        "                                                           verbose=True)"
      ],
      "execution_count": 16,
      "outputs": [
        {
          "output_type": "stream",
          "text": [
            "3it [00:00, 149.77it/s]\n",
            "3it [00:00, 119.94it/s]\n",
            "1it [00:00, 88.17it/s]"
          ],
          "name": "stderr"
        },
        {
          "output_type": "stream",
          "text": [
            "Combination 1 by 1\n",
            "Combination 2 by 2\n",
            "Combination 3 by 3\n"
          ],
          "name": "stdout"
        },
        {
          "output_type": "stream",
          "text": [
            "\n"
          ],
          "name": "stderr"
        }
      ]
    },
    {
      "cell_type": "code",
      "metadata": {
        "colab": {
          "base_uri": "https://localhost:8080/"
        },
        "id": "lIe6JB84xAo3",
        "outputId": "8de5e318-3662-42a8-adfd-8199be81779f"
      },
      "source": [
        "get_ECLAT_indexes"
      ],
      "execution_count": 17,
      "outputs": [
        {
          "output_type": "execute_result",
          "data": {
            "text/plain": [
              "{'bread': [0, 1, 2, 3, 6],\n",
              " 'bread & butter': [0, 1, 2, 3],\n",
              " 'bread & butter & coffe': [1, 2, 3],\n",
              " 'bread & coffe': [1, 2, 3],\n",
              " 'butter': [0, 1, 2, 3, 5],\n",
              " 'butter & coffe': [1, 2, 3],\n",
              " 'coffe': [1, 2, 3]}"
            ]
          },
          "metadata": {
            "tags": []
          },
          "execution_count": 17
        }
      ]
    },
    {
      "cell_type": "code",
      "metadata": {
        "colab": {
          "base_uri": "https://localhost:8080/"
        },
        "id": "stbPFEqOxDw4",
        "outputId": "5437ff2c-614c-4738-9ae5-d60a3f49c3d8"
      },
      "source": [
        "get_ECLAT_supports"
      ],
      "execution_count": 18,
      "outputs": [
        {
          "output_type": "execute_result",
          "data": {
            "text/plain": [
              "{'bread': 0.5,\n",
              " 'bread & butter': 0.4,\n",
              " 'bread & butter & coffe': 0.3,\n",
              " 'bread & coffe': 0.3,\n",
              " 'butter': 0.5,\n",
              " 'butter & coffe': 0.3,\n",
              " 'coffe': 0.3}"
            ]
          },
          "metadata": {
            "tags": []
          },
          "execution_count": 18
        }
      ]
    },
    {
      "cell_type": "code",
      "metadata": {
        "id": "e3GHg_V7xGly"
      },
      "source": [
        ""
      ],
      "execution_count": null,
      "outputs": []
    }
  ]
}