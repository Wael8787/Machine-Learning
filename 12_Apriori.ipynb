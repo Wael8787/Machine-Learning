{
  "nbformat": 4,
  "nbformat_minor": 0,
  "metadata": {
    "colab": {
      "name": "12_Apriori.ipynb",
      "provenance": [],
      "collapsed_sections": [],
      "authorship_tag": "ABX9TyPKggMHELTbbsnhjpvOMlaS",
      "include_colab_link": true
    },
    "kernelspec": {
      "name": "python3",
      "display_name": "Python 3"
    }
  },
  "cells": [
    {
      "cell_type": "markdown",
      "metadata": {
        "id": "view-in-github",
        "colab_type": "text"
      },
      "source": [
        "<a href=\"https://colab.research.google.com/github/Wael8787/Machine-Learning/blob/main/12_Apriori.ipynb\" target=\"_parent\"><img src=\"https://colab.research.google.com/assets/colab-badge.svg\" alt=\"Open In Colab\"/></a>"
      ]
    },
    {
      "cell_type": "code",
      "metadata": {
        "colab": {
          "base_uri": "https://localhost:8080/"
        },
        "id": "0cTYgt2usyLm",
        "outputId": "899eb07d-02c8-4264-f590-bf83e9095ff6"
      },
      "source": [
        "#Apriori\r\n",
        "!pip install apyori\r\n",
        "from apyori import apriori\r\n"
      ],
      "execution_count": 4,
      "outputs": [
        {
          "output_type": "stream",
          "text": [
            "Requirement already satisfied: apyori in /usr/local/lib/python3.6/dist-packages (1.1.2)\n"
          ],
          "name": "stdout"
        }
      ]
    },
    {
      "cell_type": "code",
      "metadata": {
        "colab": {
          "base_uri": "https://localhost:8080/"
        },
        "id": "fCcD353MtiVe",
        "outputId": "c942ccaa-9a8e-40e3-e5b0-f3a344bd64a6"
      },
      "source": [
        "transactions = [\r\n",
        "    ['beer', 'nuts'],\r\n",
        "    ['beer', 'cheese'],\r\n",
        "    ['cheese', 'milk'],\r\n",
        "    ['cheese', 'milk', 'beer'],\r\n",
        "]\r\n",
        "results = list(apriori(transactions))\r\n",
        "results"
      ],
      "execution_count": 5,
      "outputs": [
        {
          "output_type": "execute_result",
          "data": {
            "text/plain": [
              "[RelationRecord(items=frozenset({'beer'}), support=0.75, ordered_statistics=[OrderedStatistic(items_base=frozenset(), items_add=frozenset({'beer'}), confidence=0.75, lift=1.0)]),\n",
              " RelationRecord(items=frozenset({'cheese'}), support=0.75, ordered_statistics=[OrderedStatistic(items_base=frozenset(), items_add=frozenset({'cheese'}), confidence=0.75, lift=1.0)]),\n",
              " RelationRecord(items=frozenset({'milk'}), support=0.5, ordered_statistics=[OrderedStatistic(items_base=frozenset(), items_add=frozenset({'milk'}), confidence=0.5, lift=1.0)]),\n",
              " RelationRecord(items=frozenset({'nuts'}), support=0.25, ordered_statistics=[OrderedStatistic(items_base=frozenset(), items_add=frozenset({'nuts'}), confidence=0.25, lift=1.0)]),\n",
              " RelationRecord(items=frozenset({'cheese', 'beer'}), support=0.5, ordered_statistics=[OrderedStatistic(items_base=frozenset(), items_add=frozenset({'cheese', 'beer'}), confidence=0.5, lift=1.0), OrderedStatistic(items_base=frozenset({'beer'}), items_add=frozenset({'cheese'}), confidence=0.6666666666666666, lift=0.8888888888888888), OrderedStatistic(items_base=frozenset({'cheese'}), items_add=frozenset({'beer'}), confidence=0.6666666666666666, lift=0.8888888888888888)]),\n",
              " RelationRecord(items=frozenset({'milk', 'beer'}), support=0.25, ordered_statistics=[OrderedStatistic(items_base=frozenset(), items_add=frozenset({'milk', 'beer'}), confidence=0.25, lift=1.0), OrderedStatistic(items_base=frozenset({'beer'}), items_add=frozenset({'milk'}), confidence=0.3333333333333333, lift=0.6666666666666666), OrderedStatistic(items_base=frozenset({'milk'}), items_add=frozenset({'beer'}), confidence=0.5, lift=0.6666666666666666)]),\n",
              " RelationRecord(items=frozenset({'nuts', 'beer'}), support=0.25, ordered_statistics=[OrderedStatistic(items_base=frozenset(), items_add=frozenset({'nuts', 'beer'}), confidence=0.25, lift=1.0), OrderedStatistic(items_base=frozenset({'beer'}), items_add=frozenset({'nuts'}), confidence=0.3333333333333333, lift=1.3333333333333333), OrderedStatistic(items_base=frozenset({'nuts'}), items_add=frozenset({'beer'}), confidence=1.0, lift=1.3333333333333333)]),\n",
              " RelationRecord(items=frozenset({'milk', 'cheese'}), support=0.5, ordered_statistics=[OrderedStatistic(items_base=frozenset(), items_add=frozenset({'milk', 'cheese'}), confidence=0.5, lift=1.0), OrderedStatistic(items_base=frozenset({'cheese'}), items_add=frozenset({'milk'}), confidence=0.6666666666666666, lift=1.3333333333333333), OrderedStatistic(items_base=frozenset({'milk'}), items_add=frozenset({'cheese'}), confidence=1.0, lift=1.3333333333333333)]),\n",
              " RelationRecord(items=frozenset({'milk', 'cheese', 'beer'}), support=0.25, ordered_statistics=[OrderedStatistic(items_base=frozenset(), items_add=frozenset({'milk', 'cheese', 'beer'}), confidence=0.25, lift=1.0), OrderedStatistic(items_base=frozenset({'beer'}), items_add=frozenset({'milk', 'cheese'}), confidence=0.3333333333333333, lift=0.6666666666666666), OrderedStatistic(items_base=frozenset({'cheese'}), items_add=frozenset({'milk', 'beer'}), confidence=0.3333333333333333, lift=1.3333333333333333), OrderedStatistic(items_base=frozenset({'milk'}), items_add=frozenset({'cheese', 'beer'}), confidence=0.5, lift=1.0), OrderedStatistic(items_base=frozenset({'cheese', 'beer'}), items_add=frozenset({'milk'}), confidence=0.5, lift=1.0), OrderedStatistic(items_base=frozenset({'milk', 'beer'}), items_add=frozenset({'cheese'}), confidence=1.0, lift=1.3333333333333333), OrderedStatistic(items_base=frozenset({'milk', 'cheese'}), items_add=frozenset({'beer'}), confidence=0.5, lift=0.6666666666666666)])]"
            ]
          },
          "metadata": {
            "tags": []
          },
          "execution_count": 5
        }
      ]
    },
    {
      "cell_type": "code",
      "metadata": {
        "id": "zdMk36E9t_Bi"
      },
      "source": [
        ""
      ],
      "execution_count": null,
      "outputs": []
    }
  ]
}