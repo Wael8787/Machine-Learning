{
  "nbformat": 4,
  "nbformat_minor": 0,
  "metadata": {
    "colab": {
      "name": "11_PCA.ipynb",
      "provenance": [],
      "collapsed_sections": [],
      "authorship_tag": "ABX9TyMzKCl9bE20PO7rDTTthzJ7",
      "include_colab_link": true
    },
    "kernelspec": {
      "name": "python3",
      "display_name": "Python 3"
    }
  },
  "cells": [
    {
      "cell_type": "markdown",
      "metadata": {
        "id": "view-in-github",
        "colab_type": "text"
      },
      "source": [
        "<a href=\"https://colab.research.google.com/github/Wael8787/Machine-Learning/blob/main/11_PCA.ipynb\" target=\"_parent\"><img src=\"https://colab.research.google.com/assets/colab-badge.svg\" alt=\"Open In Colab\"/></a>"
      ]
    },
    {
      "cell_type": "markdown",
      "metadata": {
        "id": "GIbY6JxJoq9N"
      },
      "source": [
        "Imports"
      ]
    },
    {
      "cell_type": "code",
      "metadata": {
        "id": "x1BVgtvolcGQ"
      },
      "source": [
        "import matplotlib.pyplot as plt\r\n",
        "import seaborn as sns\r\n",
        "import pandas as pd\r\n",
        "import numpy as np\r\n",
        "%matplotlib inline\r\n",
        "\r\n",
        "# load make_blobs to simulate data\r\n",
        "from sklearn.datasets import make_blobs\r\n",
        "# load decomposition to do PCA analysis with sklearn\r\n",
        "from sklearn import decomposition"
      ],
      "execution_count": 2,
      "outputs": []
    },
    {
      "cell_type": "code",
      "metadata": {
        "colab": {
          "base_uri": "https://localhost:8080/"
        },
        "id": "D7WUBvoCosie",
        "outputId": "906b5659-1367-4756-e5d3-8029b300b95d"
      },
      "source": [
        "X1, Y1 = make_blobs(n_features=10, \r\n",
        "         n_samples=100,\r\n",
        "         centers=4, \r\n",
        "         random_state=4,\r\n",
        "         cluster_std=2)\r\n",
        "X1.shape"
      ],
      "execution_count": 6,
      "outputs": [
        {
          "output_type": "execute_result",
          "data": {
            "text/plain": [
              "(100, 10)"
            ]
          },
          "metadata": {
            "tags": []
          },
          "execution_count": 6
        }
      ]
    },
    {
      "cell_type": "code",
      "metadata": {
        "colab": {
          "base_uri": "https://localhost:8080/"
        },
        "id": "_sVZjWxdpAaT",
        "outputId": "57fd828e-55d8-491a-f425-816142898758"
      },
      "source": [
        "Y1.shape"
      ],
      "execution_count": 7,
      "outputs": [
        {
          "output_type": "execute_result",
          "data": {
            "text/plain": [
              "(100,)"
            ]
          },
          "metadata": {
            "tags": []
          },
          "execution_count": 7
        }
      ]
    },
    {
      "cell_type": "code",
      "metadata": {
        "colab": {
          "base_uri": "https://localhost:8080/"
        },
        "id": "uWuaqIgso0sx",
        "outputId": "22789797-97db-457c-f1fa-e8ba2b713094"
      },
      "source": [
        "X1[0:10]"
      ],
      "execution_count": 5,
      "outputs": [
        {
          "output_type": "execute_result",
          "data": {
            "text/plain": [
              "array([[  1.11145979,  10.62565984,   6.91705398,   7.24041203,\n",
              "         -7.5048414 , -10.29490913,   0.87323018,  -6.75258413,\n",
              "          2.72418018,   0.13660645],\n",
              "       [  3.92221155,  -5.45790248,   6.03705918,  10.372529  ,\n",
              "         -3.3836972 ,   5.83728482,  -8.16615135,  -1.31808273,\n",
              "         -9.05815852,   9.95528764],\n",
              "       [  8.99836679,   1.3132145 ,   8.65133356,   6.08652863,\n",
              "          0.96287176,  -7.06900391,   9.28666621, -11.9650423 ,\n",
              "         -4.21907678,  -4.33397795],\n",
              "       [  0.07630061,   8.19919005,  -2.7169936 ,  -7.57823522,\n",
              "         -7.7729307 ,  -3.54298611,   4.28522873,   3.94861454,\n",
              "         -1.02829441,   3.3002391 ],\n",
              "       [  8.94710622,   2.61770239,  11.02689176,   0.61456814,\n",
              "          4.02967146,  -5.60635399,   7.96800925,  -9.51657347,\n",
              "         -7.85142141,  -0.19179891],\n",
              "       [  2.9379498 ,   8.80698611,   2.92392542,   4.66350078,\n",
              "         -8.81823792,  -6.2704578 ,   1.42246317,  -8.03496111,\n",
              "          5.44988453,   0.16756148],\n",
              "       [  8.16761588,  -7.13866848,   6.49029143,  11.17228227,\n",
              "         -4.33842512,  -0.44344524, -10.73032508,  -2.72795372,\n",
              "         -7.10230461,   6.96705407],\n",
              "       [ -0.37461258,  11.27594142,   0.15030151,   8.84717752,\n",
              "         -6.04481506,  -6.48679316,   0.92632292,  -8.0701064 ,\n",
              "          2.44701774,  -0.87406663],\n",
              "       [ -0.25204073,  11.56777526,   3.07604444,  -8.89170049,\n",
              "         -8.20015959,   0.59689269,  -0.31035671,   4.28937919,\n",
              "          0.30014822,   4.41456912],\n",
              "       [  1.94965439,  10.69441705,   0.6281485 ,  -4.6223619 ,\n",
              "         -8.60174309,  -1.62082898,  -1.62009577,   1.2504869 ,\n",
              "         -2.99648313,   2.56838353]])"
            ]
          },
          "metadata": {
            "tags": []
          },
          "execution_count": 5
        }
      ]
    },
    {
      "cell_type": "code",
      "metadata": {
        "colab": {
          "base_uri": "https://localhost:8080/"
        },
        "id": "Lksntf2zo4DA",
        "outputId": "2f69bfa8-6df7-4a34-d90c-46440f2f4570"
      },
      "source": [
        "Y1[0:10]"
      ],
      "execution_count": 8,
      "outputs": [
        {
          "output_type": "execute_result",
          "data": {
            "text/plain": [
              "array([2, 1, 0, 3, 0, 2, 1, 2, 3, 3])"
            ]
          },
          "metadata": {
            "tags": []
          },
          "execution_count": 8
        }
      ]
    },
    {
      "cell_type": "markdown",
      "metadata": {
        "id": "Ompc05FrpPaO"
      },
      "source": [
        "Model"
      ]
    },
    {
      "cell_type": "code",
      "metadata": {
        "id": "UxU3CLn9pH1K"
      },
      "source": [
        "pca = decomposition.PCA(n_components=4)"
      ],
      "execution_count": 9,
      "outputs": []
    },
    {
      "cell_type": "code",
      "metadata": {
        "id": "g2sdi8vJpQsB"
      },
      "source": [
        "pc = pca.fit_transform(X1)"
      ],
      "execution_count": 10,
      "outputs": []
    },
    {
      "cell_type": "code",
      "metadata": {
        "colab": {
          "base_uri": "https://localhost:8080/",
          "height": 204
        },
        "id": "RKeOTIgypSs3",
        "outputId": "c8f7ff6b-e3d2-4ea2-a184-aaf047903245"
      },
      "source": [
        "pc_df = pd.DataFrame(data = pc , \r\n",
        "        columns = ['PC1', 'PC2','PC3','PC4'])\r\n",
        "pc_df['Cluster'] = Y1\r\n",
        "pc_df.head()"
      ],
      "execution_count": 11,
      "outputs": [
        {
          "output_type": "execute_result",
          "data": {
            "text/html": [
              "<div>\n",
              "<style scoped>\n",
              "    .dataframe tbody tr th:only-of-type {\n",
              "        vertical-align: middle;\n",
              "    }\n",
              "\n",
              "    .dataframe tbody tr th {\n",
              "        vertical-align: top;\n",
              "    }\n",
              "\n",
              "    .dataframe thead th {\n",
              "        text-align: right;\n",
              "    }\n",
              "</style>\n",
              "<table border=\"1\" class=\"dataframe\">\n",
              "  <thead>\n",
              "    <tr style=\"text-align: right;\">\n",
              "      <th></th>\n",
              "      <th>PC1</th>\n",
              "      <th>PC2</th>\n",
              "      <th>PC3</th>\n",
              "      <th>PC4</th>\n",
              "      <th>Cluster</th>\n",
              "    </tr>\n",
              "  </thead>\n",
              "  <tbody>\n",
              "    <tr>\n",
              "      <th>0</th>\n",
              "      <td>-8.133443</td>\n",
              "      <td>-0.302138</td>\n",
              "      <td>9.984672</td>\n",
              "      <td>0.423878</td>\n",
              "      <td>2</td>\n",
              "    </tr>\n",
              "    <tr>\n",
              "      <th>1</th>\n",
              "      <td>18.931381</td>\n",
              "      <td>0.193838</td>\n",
              "      <td>0.045462</td>\n",
              "      <td>-3.894042</td>\n",
              "      <td>1</td>\n",
              "    </tr>\n",
              "    <tr>\n",
              "      <th>2</th>\n",
              "      <td>-6.571463</td>\n",
              "      <td>-14.188490</td>\n",
              "      <td>-3.120115</td>\n",
              "      <td>1.278588</td>\n",
              "      <td>0</td>\n",
              "    </tr>\n",
              "    <tr>\n",
              "      <th>3</th>\n",
              "      <td>-7.533948</td>\n",
              "      <td>14.439427</td>\n",
              "      <td>-5.443487</td>\n",
              "      <td>3.358252</td>\n",
              "      <td>3</td>\n",
              "    </tr>\n",
              "    <tr>\n",
              "      <th>4</th>\n",
              "      <td>-4.591760</td>\n",
              "      <td>-11.315284</td>\n",
              "      <td>-9.130630</td>\n",
              "      <td>-1.420151</td>\n",
              "      <td>0</td>\n",
              "    </tr>\n",
              "  </tbody>\n",
              "</table>\n",
              "</div>"
            ],
            "text/plain": [
              "         PC1        PC2       PC3       PC4  Cluster\n",
              "0  -8.133443  -0.302138  9.984672  0.423878        2\n",
              "1  18.931381   0.193838  0.045462 -3.894042        1\n",
              "2  -6.571463 -14.188490 -3.120115  1.278588        0\n",
              "3  -7.533948  14.439427 -5.443487  3.358252        3\n",
              "4  -4.591760 -11.315284 -9.130630 -1.420151        0"
            ]
          },
          "metadata": {
            "tags": []
          },
          "execution_count": 11
        }
      ]
    },
    {
      "cell_type": "code",
      "metadata": {
        "colab": {
          "base_uri": "https://localhost:8080/"
        },
        "id": "9liyomfdqRc3",
        "outputId": "047bb071-cb8e-40f3-c1ac-44cc614c338a"
      },
      "source": [
        "pca.explained_variance_ratio_"
      ],
      "execution_count": 12,
      "outputs": [
        {
          "output_type": "execute_result",
          "data": {
            "text/plain": [
              "array([0.41594854, 0.3391866 , 0.1600729 , 0.02016822])"
            ]
          },
          "metadata": {
            "tags": []
          },
          "execution_count": 12
        }
      ]
    },
    {
      "cell_type": "code",
      "metadata": {
        "colab": {
          "base_uri": "https://localhost:8080/",
          "height": 279
        },
        "id": "D9Z1weoEqVVa",
        "outputId": "68275a2f-3f3d-4f44-e9d9-603de96ca304"
      },
      "source": [
        "df = pd.DataFrame({'var':pca.explained_variance_ratio_, 'PC':['PC1','PC2','PC3','PC4']})\r\n",
        "sns.barplot(x='PC',y=\"var\", data=df, color=\"c\");"
      ],
      "execution_count": 13,
      "outputs": [
        {
          "output_type": "display_data",
          "data": {
            "image/png": "[encoded data removed]",
            "text/plain": [
              "<Figure size 432x288 with 1 Axes>"
            ]
          },
          "metadata": {
            "tags": [],
            "needs_background": "light"
          }
        }
      ]
    },
    {
      "cell_type": "code",
      "metadata": {
        "colab": {
          "base_uri": "https://localhost:8080/",
          "height": 400
        },
        "id": "cgTDJYt5qXs6",
        "outputId": "c08b783e-35c5-4c94-a9cc-a6944203fb37"
      },
      "source": [
        "sns.lmplot( \r\n",
        "      x=\"PC1\", \r\n",
        "      y=\"PC2\",\r\n",
        "      data=pc_df, \r\n",
        "      fit_reg=False, \r\n",
        "      hue='Cluster', # color by cluster\r\n",
        "      legend=True,\r\n",
        "      scatter_kws={\"s\": 80}\r\n",
        "    ) # specify the point size"
      ],
      "execution_count": 17,
      "outputs": [
        {
          "output_type": "execute_result",
          "data": {
            "text/plain": [
              "<seaborn.axisgrid.FacetGrid at 0x7f76b294a160>"
            ]
          },
          "metadata": {
            "tags": []
          },
          "execution_count": 17
        },
        {
          "output_type": "display_data",
          "data": {
            "image/png": "[encoded data removed]",
            "text/plain": [
              "<Figure size 403.5x360 with 1 Axes>"
            ]
          },
          "metadata": {
            "tags": [],
            "needs_background": "light"
          }
        }
      ]
    },
    {
      "cell_type": "code",
      "metadata": {
        "id": "LVJAv7a7qt2-"
      },
      "source": [
        ""
      ],
      "execution_count": null,
      "outputs": []
    }
  ]
}